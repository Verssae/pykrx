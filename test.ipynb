{
 "cells": [
  {
   "cell_type": "code",
   "execution_count": 1,
   "metadata": {},
   "outputs": [],
   "source": [
    "from pykrx import stock"
   ]
  },
  {
   "cell_type": "code",
   "execution_count": 10,
   "metadata": {},
   "outputs": [],
   "source": [
    "df = stock.get_index_ohlcv(\"20220101\", \"20220113\", \"1001\")"
   ]
  },
  {
   "cell_type": "code",
   "execution_count": 22,
   "metadata": {},
   "outputs": [
    {
     "data": {
      "text/plain": [
       "날짜\n",
       "2022-01-03    2211373367405162\n",
       "2022-01-04    2212087919930193\n",
       "2022-01-05    2186715367040906\n",
       "2022-01-06    2162437324139180\n",
       "2022-01-07    2187560533655431\n",
       "2022-01-10    2166763874659561\n",
       "2022-01-11    2168032047197388\n",
       "2022-01-12    2200967250234565\n",
       "2022-01-13    2193799600084399\n",
       "Name: 시가총액, dtype: object"
      ]
     },
     "execution_count": 22,
     "metadata": {},
     "output_type": "execute_result"
    }
   ],
   "source": [
    "df[\"시가총액\"]"
   ]
  },
  {
   "cell_type": "code",
   "execution_count": 20,
   "metadata": {},
   "outputs": [
    {
     "data": {
      "text/html": [
       "<div>\n",
       "<style scoped>\n",
       "    .dataframe tbody tr th:only-of-type {\n",
       "        vertical-align: middle;\n",
       "    }\n",
       "\n",
       "    .dataframe tbody tr th {\n",
       "        vertical-align: top;\n",
       "    }\n",
       "\n",
       "    .dataframe thead th {\n",
       "        text-align: right;\n",
       "    }\n",
       "</style>\n",
       "<table border=\"1\" class=\"dataframe\">\n",
       "  <thead>\n",
       "    <tr style=\"text-align: right;\">\n",
       "      <th></th>\n",
       "      <th>시가총액</th>\n",
       "      <th>거래량</th>\n",
       "      <th>거래대금</th>\n",
       "      <th>상장주식수</th>\n",
       "    </tr>\n",
       "    <tr>\n",
       "      <th>날짜</th>\n",
       "      <th></th>\n",
       "      <th></th>\n",
       "      <th></th>\n",
       "      <th></th>\n",
       "    </tr>\n",
       "  </thead>\n",
       "  <tbody>\n",
       "    <tr>\n",
       "      <th>2022-01-03</th>\n",
       "      <td>469224908430000</td>\n",
       "      <td>13502112</td>\n",
       "      <td>1066006837750</td>\n",
       "      <td>5969782550</td>\n",
       "    </tr>\n",
       "    <tr>\n",
       "      <th>2022-01-04</th>\n",
       "      <td>469821886685000</td>\n",
       "      <td>12427416</td>\n",
       "      <td>977990613000</td>\n",
       "      <td>5969782550</td>\n",
       "    </tr>\n",
       "    <tr>\n",
       "      <th>2022-01-05</th>\n",
       "      <td>462061169370000</td>\n",
       "      <td>25470640</td>\n",
       "      <td>1967841509800</td>\n",
       "      <td>5969782550</td>\n",
       "    </tr>\n",
       "    <tr>\n",
       "      <th>2022-01-06</th>\n",
       "      <td>459076278095000</td>\n",
       "      <td>12931954</td>\n",
       "      <td>996378432570</td>\n",
       "      <td>5969782550</td>\n",
       "    </tr>\n",
       "    <tr>\n",
       "      <th>2022-01-07</th>\n",
       "      <td>467433973665000</td>\n",
       "      <td>15163757</td>\n",
       "      <td>1184236552700</td>\n",
       "      <td>5969782550</td>\n",
       "    </tr>\n",
       "    <tr>\n",
       "      <th>2022-01-10</th>\n",
       "      <td>465643038900000</td>\n",
       "      <td>9947422</td>\n",
       "      <td>772740467800</td>\n",
       "      <td>5969782550</td>\n",
       "    </tr>\n",
       "    <tr>\n",
       "      <th>2022-01-11</th>\n",
       "      <td>471015843195000</td>\n",
       "      <td>13221123</td>\n",
       "      <td>1038834579600</td>\n",
       "      <td>5969782550</td>\n",
       "    </tr>\n",
       "    <tr>\n",
       "      <th>2022-01-12</th>\n",
       "      <td>471015843195000</td>\n",
       "      <td>11000502</td>\n",
       "      <td>868910854000</td>\n",
       "      <td>5969782550</td>\n",
       "    </tr>\n",
       "    <tr>\n",
       "      <th>2022-01-13</th>\n",
       "      <td>465046060645000</td>\n",
       "      <td>13876057</td>\n",
       "      <td>1087556384164</td>\n",
       "      <td>5969782550</td>\n",
       "    </tr>\n",
       "  </tbody>\n",
       "</table>\n",
       "</div>"
      ],
      "text/plain": [
       "                       시가총액       거래량           거래대금       상장주식수\n",
       "날짜                                                              \n",
       "2022-01-03  469224908430000  13502112  1066006837750  5969782550\n",
       "2022-01-04  469821886685000  12427416   977990613000  5969782550\n",
       "2022-01-05  462061169370000  25470640  1967841509800  5969782550\n",
       "2022-01-06  459076278095000  12931954   996378432570  5969782550\n",
       "2022-01-07  467433973665000  15163757  1184236552700  5969782550\n",
       "2022-01-10  465643038900000   9947422   772740467800  5969782550\n",
       "2022-01-11  471015843195000  13221123  1038834579600  5969782550\n",
       "2022-01-12  471015843195000  11000502   868910854000  5969782550\n",
       "2022-01-13  465046060645000  13876057  1087556384164  5969782550"
      ]
     },
     "execution_count": 20,
     "metadata": {},
     "output_type": "execute_result"
    }
   ],
   "source": [
    "samsung = stock.get_market_cap(\"20220101\", \"20220113\", \"005930\")\n",
    "samsung"
   ]
  },
  {
   "cell_type": "code",
   "execution_count": 21,
   "metadata": {},
   "outputs": [
    {
     "data": {
      "text/html": [
       "<div>\n",
       "<style scoped>\n",
       "    .dataframe tbody tr th:only-of-type {\n",
       "        vertical-align: middle;\n",
       "    }\n",
       "\n",
       "    .dataframe tbody tr th {\n",
       "        vertical-align: top;\n",
       "    }\n",
       "\n",
       "    .dataframe thead th {\n",
       "        text-align: right;\n",
       "    }\n",
       "</style>\n",
       "<table border=\"1\" class=\"dataframe\">\n",
       "  <thead>\n",
       "    <tr style=\"text-align: right;\">\n",
       "      <th></th>\n",
       "      <th>시가</th>\n",
       "      <th>고가</th>\n",
       "      <th>저가</th>\n",
       "      <th>종가</th>\n",
       "      <th>거래량</th>\n",
       "    </tr>\n",
       "    <tr>\n",
       "      <th>날짜</th>\n",
       "      <th></th>\n",
       "      <th></th>\n",
       "      <th></th>\n",
       "      <th></th>\n",
       "      <th></th>\n",
       "    </tr>\n",
       "  </thead>\n",
       "  <tbody>\n",
       "    <tr>\n",
       "      <th>2022-01-03</th>\n",
       "      <td>79400</td>\n",
       "      <td>79800</td>\n",
       "      <td>78200</td>\n",
       "      <td>78600</td>\n",
       "      <td>13502112</td>\n",
       "    </tr>\n",
       "    <tr>\n",
       "      <th>2022-01-04</th>\n",
       "      <td>78800</td>\n",
       "      <td>79200</td>\n",
       "      <td>78300</td>\n",
       "      <td>78700</td>\n",
       "      <td>12427416</td>\n",
       "    </tr>\n",
       "    <tr>\n",
       "      <th>2022-01-05</th>\n",
       "      <td>78800</td>\n",
       "      <td>79000</td>\n",
       "      <td>76400</td>\n",
       "      <td>77400</td>\n",
       "      <td>25470640</td>\n",
       "    </tr>\n",
       "    <tr>\n",
       "      <th>2022-01-06</th>\n",
       "      <td>76700</td>\n",
       "      <td>77600</td>\n",
       "      <td>76600</td>\n",
       "      <td>76900</td>\n",
       "      <td>12931954</td>\n",
       "    </tr>\n",
       "    <tr>\n",
       "      <th>2022-01-07</th>\n",
       "      <td>78100</td>\n",
       "      <td>78400</td>\n",
       "      <td>77400</td>\n",
       "      <td>78300</td>\n",
       "      <td>15163757</td>\n",
       "    </tr>\n",
       "    <tr>\n",
       "      <th>2022-01-10</th>\n",
       "      <td>78100</td>\n",
       "      <td>78100</td>\n",
       "      <td>77100</td>\n",
       "      <td>78000</td>\n",
       "      <td>9947422</td>\n",
       "    </tr>\n",
       "    <tr>\n",
       "      <th>2022-01-11</th>\n",
       "      <td>78400</td>\n",
       "      <td>79000</td>\n",
       "      <td>78000</td>\n",
       "      <td>78900</td>\n",
       "      <td>13221123</td>\n",
       "    </tr>\n",
       "    <tr>\n",
       "      <th>2022-01-12</th>\n",
       "      <td>79500</td>\n",
       "      <td>79600</td>\n",
       "      <td>78600</td>\n",
       "      <td>78900</td>\n",
       "      <td>11000502</td>\n",
       "    </tr>\n",
       "    <tr>\n",
       "      <th>2022-01-13</th>\n",
       "      <td>79300</td>\n",
       "      <td>79300</td>\n",
       "      <td>77900</td>\n",
       "      <td>77900</td>\n",
       "      <td>13605578</td>\n",
       "    </tr>\n",
       "  </tbody>\n",
       "</table>\n",
       "</div>"
      ],
      "text/plain": [
       "               시가     고가     저가     종가       거래량\n",
       "날짜                                              \n",
       "2022-01-03  79400  79800  78200  78600  13502112\n",
       "2022-01-04  78800  79200  78300  78700  12427416\n",
       "2022-01-05  78800  79000  76400  77400  25470640\n",
       "2022-01-06  76700  77600  76600  76900  12931954\n",
       "2022-01-07  78100  78400  77400  78300  15163757\n",
       "2022-01-10  78100  78100  77100  78000   9947422\n",
       "2022-01-11  78400  79000  78000  78900  13221123\n",
       "2022-01-12  79500  79600  78600  78900  11000502\n",
       "2022-01-13  79300  79300  77900  77900  13605578"
      ]
     },
     "execution_count": 21,
     "metadata": {},
     "output_type": "execute_result"
    }
   ],
   "source": [
    "samsung = stock.get_market_ohlcv(\"20220101\", \"20220113\", \"005930\")\n",
    "samsung"
   ]
  },
  {
   "cell_type": "code",
   "execution_count": 18,
   "metadata": {},
   "outputs": [
    {
     "data": {
      "text/html": [
       "<div>\n",
       "<style scoped>\n",
       "    .dataframe tbody tr th:only-of-type {\n",
       "        vertical-align: middle;\n",
       "    }\n",
       "\n",
       "    .dataframe tbody tr th {\n",
       "        vertical-align: top;\n",
       "    }\n",
       "\n",
       "    .dataframe thead th {\n",
       "        text-align: right;\n",
       "    }\n",
       "</style>\n",
       "<table border=\"1\" class=\"dataframe\">\n",
       "  <thead>\n",
       "    <tr style=\"text-align: right;\">\n",
       "      <th></th>\n",
       "    </tr>\n",
       "  </thead>\n",
       "  <tbody>\n",
       "  </tbody>\n",
       "</table>\n",
       "</div>"
      ],
      "text/plain": [
       "Empty DataFrame\n",
       "Columns: []\n",
       "Index: []"
      ]
     },
     "execution_count": 18,
     "metadata": {},
     "output_type": "execute_result"
    }
   ],
   "source": [
    "stock.get_market_cap(\"20220101\", \"20220113\", \"10001\")"
   ]
  },
  {
   "cell_type": "code",
   "execution_count": 39,
   "metadata": {},
   "outputs": [],
   "source": [
    "import pandas as pd\n",
    "\n",
    "# pandas float print option \n",
    "pd.set_option('display.float_format', lambda x: '%.2f' % x)"
   ]
  },
  {
   "cell_type": "code",
   "execution_count": 53,
   "metadata": {},
   "outputs": [],
   "source": [
    "from pykrx import stock"
   ]
  },
  {
   "cell_type": "code",
   "execution_count": 54,
   "metadata": {},
   "outputs": [],
   "source": [
    "KOSPI = \"1001\"\n",
    "def get_market_cap_percent(from_date, to_date, code, market=KOSPI):\n",
    "    index_df = stock.get_index_ohlcv(from_date, to_date, market)\n",
    "    df = stock.get_market_cap(from_date, to_date, code)\n",
    "    ohlcv = stock.get_market_ohlcv(from_date, to_date, code)\n",
    "\n",
    "    # Series str to int\n",
    "    index_df[\"시가총액\"] = index_df[\"시가총액\"].astype(float)\n",
    "    df[\"시가총액\"] = df[\"시가총액\"].astype(float)\n",
    "\n",
    "    percent = df[\"시가총액\"] / index_df[\"시가총액\"] * 100\n",
    "\n",
    "    ohlcv[\"시가총액 비중\"] = percent\n",
    "    return ohlcv"
   ]
  },
  {
   "cell_type": "code",
   "execution_count": 55,
   "metadata": {},
   "outputs": [],
   "source": [
    "SAMSUNG = \"005930\"\n",
    "\n",
    "FROM = \"20190101\"\n",
    "TO = \"20220113\""
   ]
  },
  {
   "cell_type": "code",
   "execution_count": 56,
   "metadata": {},
   "outputs": [
    {
     "data": {
      "text/html": [
       "<div>\n",
       "<style scoped>\n",
       "    .dataframe tbody tr th:only-of-type {\n",
       "        vertical-align: middle;\n",
       "    }\n",
       "\n",
       "    .dataframe tbody tr th {\n",
       "        vertical-align: top;\n",
       "    }\n",
       "\n",
       "    .dataframe thead th {\n",
       "        text-align: right;\n",
       "    }\n",
       "</style>\n",
       "<table border=\"1\" class=\"dataframe\">\n",
       "  <thead>\n",
       "    <tr style=\"text-align: right;\">\n",
       "      <th></th>\n",
       "      <th>시가</th>\n",
       "      <th>고가</th>\n",
       "      <th>저가</th>\n",
       "      <th>종가</th>\n",
       "      <th>거래량</th>\n",
       "      <th>시가총액 비중</th>\n",
       "    </tr>\n",
       "    <tr>\n",
       "      <th>날짜</th>\n",
       "      <th></th>\n",
       "      <th></th>\n",
       "      <th></th>\n",
       "      <th></th>\n",
       "      <th></th>\n",
       "      <th></th>\n",
       "    </tr>\n",
       "  </thead>\n",
       "  <tbody>\n",
       "    <tr>\n",
       "      <th>2019-01-02</th>\n",
       "      <td>39400</td>\n",
       "      <td>39400</td>\n",
       "      <td>38550</td>\n",
       "      <td>38750</td>\n",
       "      <td>7847664</td>\n",
       "      <td>17.48</td>\n",
       "    </tr>\n",
       "    <tr>\n",
       "      <th>2019-01-03</th>\n",
       "      <td>38300</td>\n",
       "      <td>38550</td>\n",
       "      <td>37450</td>\n",
       "      <td>37600</td>\n",
       "      <td>12471493</td>\n",
       "      <td>17.10</td>\n",
       "    </tr>\n",
       "    <tr>\n",
       "      <th>2019-01-04</th>\n",
       "      <td>37450</td>\n",
       "      <td>37600</td>\n",
       "      <td>36850</td>\n",
       "      <td>37450</td>\n",
       "      <td>14108958</td>\n",
       "      <td>16.89</td>\n",
       "    </tr>\n",
       "    <tr>\n",
       "      <th>2019-01-07</th>\n",
       "      <td>38000</td>\n",
       "      <td>38900</td>\n",
       "      <td>37800</td>\n",
       "      <td>38750</td>\n",
       "      <td>12748997</td>\n",
       "      <td>17.23</td>\n",
       "    </tr>\n",
       "    <tr>\n",
       "      <th>2019-01-08</th>\n",
       "      <td>38000</td>\n",
       "      <td>39200</td>\n",
       "      <td>37950</td>\n",
       "      <td>38100</td>\n",
       "      <td>12756554</td>\n",
       "      <td>17.05</td>\n",
       "    </tr>\n",
       "    <tr>\n",
       "      <th>...</th>\n",
       "      <td>...</td>\n",
       "      <td>...</td>\n",
       "      <td>...</td>\n",
       "      <td>...</td>\n",
       "      <td>...</td>\n",
       "      <td>...</td>\n",
       "    </tr>\n",
       "    <tr>\n",
       "      <th>2022-01-07</th>\n",
       "      <td>78100</td>\n",
       "      <td>78400</td>\n",
       "      <td>77400</td>\n",
       "      <td>78300</td>\n",
       "      <td>15163757</td>\n",
       "      <td>21.37</td>\n",
       "    </tr>\n",
       "    <tr>\n",
       "      <th>2022-01-10</th>\n",
       "      <td>78100</td>\n",
       "      <td>78100</td>\n",
       "      <td>77100</td>\n",
       "      <td>78000</td>\n",
       "      <td>9947422</td>\n",
       "      <td>21.49</td>\n",
       "    </tr>\n",
       "    <tr>\n",
       "      <th>2022-01-11</th>\n",
       "      <td>78400</td>\n",
       "      <td>79000</td>\n",
       "      <td>78000</td>\n",
       "      <td>78900</td>\n",
       "      <td>13221123</td>\n",
       "      <td>21.73</td>\n",
       "    </tr>\n",
       "    <tr>\n",
       "      <th>2022-01-12</th>\n",
       "      <td>79500</td>\n",
       "      <td>79600</td>\n",
       "      <td>78600</td>\n",
       "      <td>78900</td>\n",
       "      <td>11000502</td>\n",
       "      <td>21.40</td>\n",
       "    </tr>\n",
       "    <tr>\n",
       "      <th>2022-01-13</th>\n",
       "      <td>79300</td>\n",
       "      <td>79300</td>\n",
       "      <td>77900</td>\n",
       "      <td>77900</td>\n",
       "      <td>13605578</td>\n",
       "      <td>21.20</td>\n",
       "    </tr>\n",
       "  </tbody>\n",
       "</table>\n",
       "<p>751 rows × 6 columns</p>\n",
       "</div>"
      ],
      "text/plain": [
       "               시가     고가     저가     종가       거래량  시가총액 비중\n",
       "날짜                                                       \n",
       "2019-01-02  39400  39400  38550  38750   7847664    17.48\n",
       "2019-01-03  38300  38550  37450  37600  12471493    17.10\n",
       "2019-01-04  37450  37600  36850  37450  14108958    16.89\n",
       "2019-01-07  38000  38900  37800  38750  12748997    17.23\n",
       "2019-01-08  38000  39200  37950  38100  12756554    17.05\n",
       "...           ...    ...    ...    ...       ...      ...\n",
       "2022-01-07  78100  78400  77400  78300  15163757    21.37\n",
       "2022-01-10  78100  78100  77100  78000   9947422    21.49\n",
       "2022-01-11  78400  79000  78000  78900  13221123    21.73\n",
       "2022-01-12  79500  79600  78600  78900  11000502    21.40\n",
       "2022-01-13  79300  79300  77900  77900  13605578    21.20\n",
       "\n",
       "[751 rows x 6 columns]"
      ]
     },
     "execution_count": 56,
     "metadata": {},
     "output_type": "execute_result"
    }
   ],
   "source": [
    "samsung_ohlcvp = get_market_cap_percent(FROM, TO, SAMSUNG)\n",
    "samsung_ohlcvp"
   ]
  },
  {
   "cell_type": "code",
   "execution_count": 65,
   "metadata": {},
   "outputs": [
    {
     "data": {
      "text/plain": [
       "[<matplotlib.lines.Line2D at 0x201b8f10>]"
      ]
     },
     "execution_count": 65,
     "metadata": {},
     "output_type": "execute_result"
    },
    {
     "data": {
      "image/png": "[encoded data removed]",
      "text/plain": [
       "<Figure size 432x288 with 1 Axes>"
      ]
     },
     "metadata": {
      "needs_background": "light"
     },
     "output_type": "display_data"
    }
   ],
   "source": [
    "from matplotlib import pyplot as plt\n",
    "\n",
    "plt.rc('font', family='Malgun Gothic')\n",
    "\n",
    "plt.title(\"최근 3년간 삼성전자의 시가총액 비중\")\n",
    "plt.xlabel(\"날짜\")\n",
    "plt.ylabel(\"시가총액 비중 (%)\")\n",
    "\n",
    "\n",
    "plt.plot(samsung_ohlcvp[\"시가총액 비중\"])\n",
    "\n"
   ]
  },
  {
   "cell_type": "code",
   "execution_count": 68,
   "metadata": {},
   "outputs": [
    {
     "data": {
      "text/plain": [
       "[<matplotlib.lines.Line2D at 0x20203cd0>]"
      ]
     },
     "execution_count": 68,
     "metadata": {},
     "output_type": "execute_result"
    },
    {
     "data": {
      "image/png": "[encoded data removed]",
      "text/plain": [
       "<Figure size 432x288 with 1 Axes>"
      ]
     },
     "metadata": {
      "needs_background": "light"
     },
     "output_type": "display_data"
    }
   ],
   "source": [
    "plt.plot(samsung_ohlcvp[\"종가\"], label=\"종가\", color=\"red\", linewidth=1)"
   ]
  },
  {
   "cell_type": "code",
   "execution_count": 61,
   "metadata": {},
   "outputs": [
    {
     "data": {
      "text/plain": [
       "날짜\n",
       "2019-01-02    38750\n",
       "2019-01-03    37600\n",
       "2019-01-04    37450\n",
       "2019-01-07    38750\n",
       "2019-01-08    38100\n",
       "              ...  \n",
       "2022-01-07    78300\n",
       "2022-01-10    78000\n",
       "2022-01-11    78900\n",
       "2022-01-12    78900\n",
       "2022-01-13    77900\n",
       "Name: 종가, Length: 751, dtype: int32"
      ]
     },
     "execution_count": 61,
     "metadata": {},
     "output_type": "execute_result"
    }
   ],
   "source": [
    "samsung_c = stock.get_market_ohlcv(FROM, TO, SAMSUNG)\n",
    "samsung_c[\"종가\"]"
   ]
  },
  {
   "cell_type": "code",
   "execution_count": null,
   "metadata": {},
   "outputs": [],
   "source": []
  }
 ],
 "metadata": {
  "interpreter": {
   "hash": "360e804c82821bd6ca412526488737c10d73d33ffc14a72d0fc4350dbf800d88"
  },
  "kernelspec": {
   "display_name": "Python 3.8.12 32-bit ('win32': conda)",
   "language": "python",
   "name": "python3"
  },
  "language_info": {
   "codemirror_mode": {
    "name": "ipython",
    "version": 3
   },
   "file_extension": ".py",
   "mimetype": "text/x-python",
   "name": "python",
   "nbconvert_exporter": "python",
   "pygments_lexer": "ipython3",
   "version": "3.8.12"
  },
  "orig_nbformat": 4
 },
 "nbformat": 4,
 "nbformat_minor": 2
}
